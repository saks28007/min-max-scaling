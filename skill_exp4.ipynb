{
  "nbformat": 4,
  "nbformat_minor": 0,
  "metadata": {
    "colab": {
      "private_outputs": true,
      "provenance": []
    },
    "kernelspec": {
      "name": "python3",
      "display_name": "Python 3"
    },
    "language_info": {
      "name": "python"
    }
  },
  "cells": [
    {
      "cell_type": "code",
      "execution_count": null,
      "metadata": {
        "id": "eCN_vM0nXL9F"
      },
      "outputs": [],
      "source": [
        "#EXP 4: MIN-MAX SCALING\n",
        "\n",
        "\"Why min-max scaling?\"\n",
        "\"It is a technique used to scale data within a fixed range usually[0,1].\"\n",
        "\"Scaling(like min max scaling) is essential because machine learning models work best when features have similar ranges:\"\n",
        "\"-prevents features from dominating(salary is higher than rating, to prevent salary from dominating the rating and making them equally important, scaling is used)\"\n",
        "\"-improves convergence speed in ml algorithms(if the features have different scales, the optimization process can become slow and unstable. So if salary is greater than age, it will be the dominating feature, plus, the training will be slower and inefficient)\"\n",
        "\"-essential for distance-based models (KNN, K-Means etc.,if features are on different scales, larger values will dominate distance calculations, affecting results.)\"\n",
        "\"-helps in neutral networks work efficiently(activation functions(like sigmoid, tanh) work best when the inputs are within small ranges(eg.[0,1]))\"\n",
        "\n",
        "from sklearn.preprocessing import MinMaxScaler\n",
        "import numpy as np\n",
        "data= np.array([[100],[200],[300],[400],[500]])\n",
        "scalar= MinMaxScaler(feature_range=(0,1))\n",
        "scaled_data=scalar.fit_transform(data)\n",
        "print(scaled_data)\n"
      ]
    }
  ]
}